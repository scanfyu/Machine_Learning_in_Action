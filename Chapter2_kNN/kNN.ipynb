{
 "cells": [
  {
   "cell_type": "code",
   "execution_count": 1,
   "metadata": {},
   "outputs": [],
   "source": [
    "import numpy as np\n",
    "import operator\n",
    "\n",
    "def createDataSet():\n",
    "    # 四组二维特征\n",
    "    group = np.array([[1.0,1.1],[1.0,1.0],[0,0],[0,0.1]])\n",
    "    # 四组特征的标签\n",
    "    labels = ['A','A','B','B']\n",
    "    return group, labels"
   ]
  },
  {
   "cell_type": "code",
   "execution_count": 2,
   "metadata": {},
   "outputs": [],
   "source": [
    "group, labels = createDataSet()"
   ]
  },
  {
   "cell_type": "code",
   "execution_count": 5,
   "metadata": {},
   "outputs": [
    {
     "output_type": "stream",
     "name": "stdout",
     "text": "4\n"
    }
   ],
   "source": [
    "dataSetSize = group.shape[0]\n",
    "print(dataSetSize)"
   ]
  },
  {
   "cell_type": "code",
   "execution_count": 8,
   "metadata": {},
   "outputs": [
    {
     "output_type": "stream",
     "name": "stdout",
     "text": "[[-1.  -1.1]\n [-1.  -1. ]\n [ 0.   0. ]\n [ 0.  -0.1]]\n"
    }
   ],
   "source": [
    "diffMat = np.tile([0,0], (dataSetSize, 1)) - group\n",
    "print(diffMat)"
   ]
  },
  {
   "cell_type": "code",
   "execution_count": 10,
   "metadata": {},
   "outputs": [
    {
     "output_type": "stream",
     "name": "stdout",
     "text": "[[1.   1.21]\n [1.   1.  ]\n [0.   0.  ]\n [0.   0.01]]\n"
    }
   ],
   "source": [
    "sqDiffMat = diffMat**2\n",
    "print(sqDiffMat)"
   ]
  },
  {
   "cell_type": "code",
   "execution_count": 11,
   "metadata": {},
   "outputs": [
    {
     "output_type": "stream",
     "name": "stdout",
     "text": "[2.21 2.   0.   0.01]\n"
    }
   ],
   "source": [
    "sqDistances = sqDiffMat.sum(axis=1)\n",
    "print(sqDistances)"
   ]
  },
  {
   "cell_type": "code",
   "execution_count": 12,
   "metadata": {},
   "outputs": [
    {
     "output_type": "stream",
     "name": "stdout",
     "text": "[1.48660687 1.41421356 0.         0.1       ]\n"
    }
   ],
   "source": [
    "distances = sqDistances**0.5\n",
    "print(distances)"
   ]
  },
  {
   "cell_type": "code",
   "execution_count": 13,
   "metadata": {},
   "outputs": [
    {
     "output_type": "stream",
     "name": "stdout",
     "text": "[2 3 1 0]\n"
    }
   ],
   "source": [
    "sortedDistIndicies = distances.argsort()\n",
    "print(sortedDistIndicies)"
   ]
  },
  {
   "cell_type": "code",
   "execution_count": 17,
   "metadata": {},
   "outputs": [
    {
     "output_type": "stream",
     "name": "stdout",
     "text": "0\n1\n2\n"
    }
   ],
   "source": [
    "for i in range(k):\n",
    "    print(i)"
   ]
  },
  {
   "cell_type": "code",
   "execution_count": 15,
   "metadata": {},
   "outputs": [],
   "source": [
    "k = 3\n",
    "classCount = {}\n",
    "# 选择距离最小的k个点\n",
    "for i in range(k):\n",
    "    # 取出前k个元素的类别\n",
    "    voteIlabel = labels[sortedDistIndicies[i]]\n",
    "    # 字典的get()方法，返回指定键的值，如果值不在字典中返回0\n",
    "    # 计算类别次数\n",
    "    classCount[voteIlabel] = classCount.get(voteIlabel, 0) + 1"
   ]
  },
  {
   "cell_type": "code",
   "execution_count": 16,
   "metadata": {},
   "outputs": [
    {
     "output_type": "execute_result",
     "data": {
      "text/plain": "{'B': 2, 'A': 1}"
     },
     "metadata": {},
     "execution_count": 16
    }
   ],
   "source": [
    "classCount"
   ]
  },
  {
   "cell_type": "code",
   "execution_count": 18,
   "metadata": {},
   "outputs": [
    {
     "output_type": "stream",
     "name": "stdout",
     "text": "[('B', 2), ('A', 1)]\n"
    }
   ],
   "source": [
    "sortedClassCount = sorted(classCount.items(),\n",
    "                            key = operator.itemgetter(1), reverse = True)\n",
    "print(sortedClassCount)"
   ]
  },
  {
   "cell_type": "code",
   "execution_count": 20,
   "metadata": {},
   "outputs": [
    {
     "output_type": "execute_result",
     "data": {
      "text/plain": "tuple"
     },
     "metadata": {},
     "execution_count": 20
    }
   ],
   "source": [
    "type(sortedClassCount[0])"
   ]
  },
  {
   "cell_type": "markdown",
   "metadata": {},
   "source": [
    "## 文件读取"
   ]
  },
  {
   "cell_type": "code",
   "execution_count": 1,
   "metadata": {},
   "outputs": [],
   "source": [
    "import numpy as np"
   ]
  },
  {
   "cell_type": "code",
   "execution_count": 3,
   "metadata": {},
   "outputs": [],
   "source": [
    "filename = \"datingTestSet.txt\""
   ]
  },
  {
   "cell_type": "code",
   "execution_count": 4,
   "metadata": {},
   "outputs": [],
   "source": [
    "fr = open(filename)\n",
    "# 读取文件所有内容\n",
    "arrayOlines = fr.readlines()\n",
    "# 得到文件行数\n",
    "numberOfLines = len(arrayOlines)\n",
    "# 返回的NumPy矩阵numberOfLines行，3列\n",
    "returnMat = np.zeros((numberOfLines, 3))\n",
    "# 创建分类标签向量\n",
    "classLabelVector = []\n",
    "# 行的索引值\n",
    "index = 0\n",
    "# 读取每一行\n",
    "for line in arrayOlines:\n",
    "    # 去掉每一行首尾的空白符，例如'\\n','\\r','\\t',' '\n",
    "    line = line.strip()\n",
    "    # 将每一行内容根据'\\t'符进行切片,本例中一共有4列\n",
    "    listFromLine = line.split('\\t')"
   ]
  },
  {
   "cell_type": "code",
   "execution_count": 7,
   "metadata": {},
   "outputs": [
    {
     "output_type": "execute_result",
     "data": {
      "text/plain": "['43757', '7.882601', '1.332446']"
     },
     "metadata": {},
     "execution_count": 7
    }
   ],
   "source": [
    "listFromLine[0:3]"
   ]
  },
  {
   "cell_type": "code",
   "execution_count": 8,
   "metadata": {},
   "outputs": [
    {
     "output_type": "execute_result",
     "data": {
      "text/plain": "['43757', '7.882601', '1.332446', 'largeDoses']"
     },
     "metadata": {},
     "execution_count": 8
    }
   ],
   "source": [
    "listFromLine"
   ]
  }
 ],
 "metadata": {
  "language_info": {
   "codemirror_mode": {
    "name": "ipython",
    "version": 3
   },
   "file_extension": ".py",
   "mimetype": "text/x-python",
   "name": "python",
   "nbconvert_exporter": "python",
   "pygments_lexer": "ipython3",
   "version": "3.7.3-final"
  },
  "orig_nbformat": 2,
  "kernelspec": {
   "name": "python3",
   "display_name": "Python 3"
  }
 },
 "nbformat": 4,
 "nbformat_minor": 2
}